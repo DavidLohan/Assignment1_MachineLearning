{
 "cells": [
  {
   "cell_type": "code",
   "execution_count": 2,
   "id": "a3b4118c-cb19-4fbf-810a-d47efbfe0e1e",
   "metadata": {},
   "outputs": [],
   "source": [
    "import pandas as pd"
   ]
  },
  {
   "cell_type": "code",
   "execution_count": 3,
   "id": "31181e15-8389-4eb5-b7a2-a25e98b49409",
   "metadata": {},
   "outputs": [],
   "source": [
    "from pathlib import Path"
   ]
  },
  {
   "cell_type": "code",
   "execution_count": 4,
   "id": "c044da76-f45b-492b-87ba-72b6ff10b655",
   "metadata": {},
   "outputs": [],
   "source": [
    "TRAIN_PATH = r\"C:\\Users\\David\\OneDrive\\Desktop\\4th year subjects\\Machine Learning\\wildfires_training.csv\"\n",
    "TEST_PATH  = r\"C:\\Users\\David\\OneDrive\\Desktop\\4th year subjects\\Machine Learning\\wildfires_test.csv\""
   ]
  },
  {
   "cell_type": "code",
   "execution_count": 5,
   "id": "0aa35579-abd9-4d8c-85f7-f9edfd407f27",
   "metadata": {},
   "outputs": [],
   "source": [
    "train_df = pd.read_csv(TRAIN_PATH)\n",
    "test_df  = pd.read_csv(TEST_PATH)"
   ]
  },
  {
   "cell_type": "code",
   "execution_count": 6,
   "id": "f2df317d-3d46-4cec-875e-fddcf9e3d970",
   "metadata": {},
   "outputs": [],
   "source": [
    "from sklearn.preprocessing import OrdinalEncoder"
   ]
  },
  {
   "cell_type": "code",
   "execution_count": 7,
   "id": "c235b4b0-4216-40bc-a890-e0f14a82b3b6",
   "metadata": {},
   "outputs": [],
   "source": [
    "on_fire = ['no', 'yes']"
   ]
  },
  {
   "cell_type": "code",
   "execution_count": 8,
   "id": "54e41eda-7814-4805-99cb-5ff3cb2b47f0",
   "metadata": {},
   "outputs": [],
   "source": [
    "enc = OrdinalEncoder(categories=[on_fire])"
   ]
  },
  {
   "cell_type": "code",
   "execution_count": 9,
   "id": "817982c4-cada-4af1-8440-8f5d71a16421",
   "metadata": {},
   "outputs": [],
   "source": [
    "train_df[['fire']] = enc.fit_transform(train_df[['fire']])"
   ]
  },
  {
   "cell_type": "code",
   "execution_count": 10,
   "id": "ed50f77b-712d-4281-8b11-1b48580e6544",
   "metadata": {},
   "outputs": [],
   "source": [
    "test_df[['fire']] = enc.transform(test_df[['fire']])"
   ]
  },
  {
   "cell_type": "code",
   "execution_count": 11,
   "id": "33195db7-8df0-426e-9457-689216b9a88e",
   "metadata": {},
   "outputs": [
    {
     "data": {
      "text/plain": [
       "(   fire  year  temp  humidity  rainfall  drought_code  buildup_index  day  \\\n",
       " 0   0.0  2015    28        59       0.0          8.06           3.47    1   \n",
       " 1   0.0  2010    30        61       1.3          8.17           4.03    2   \n",
       " 2   0.0  2009    26        83      13.1          8.08           3.59    3   \n",
       " 3   0.0  2017    25        87       2.5          7.18           2.42    4   \n",
       " 4   0.0  2014    28        77       0.0         14.98           4.63    5   \n",
       " \n",
       "    month  wind_speed  \n",
       " 0      6          19  \n",
       " 1      6          13  \n",
       " 2      6          22  \n",
       " 3      6          15  \n",
       " 4      6          18  ,\n",
       "    fire  year  temp  humidity  rainfall  drought_code  buildup_index  day  \\\n",
       " 0   0.0  2015    33        68       4.5          9.12           5.09   19   \n",
       " 1   1.0  2009    28        56       0.0         38.17          21.21   12   \n",
       " 2   0.0  2017    30        64       0.6         15.38           6.24   24   \n",
       " 3   0.0  2007    23        74       8.3          7.36           2.27   14   \n",
       " 4   0.0  2017    31        72       0.3         30.47           5.63    7   \n",
       " \n",
       "    month  wind_speed  \n",
       " 0      6          16  \n",
       " 1      6          18  \n",
       " 2      9          19  \n",
       " 3      9          28  \n",
       " 4      9          17  )"
      ]
     },
     "execution_count": 11,
     "metadata": {},
     "output_type": "execute_result"
    }
   ],
   "source": [
    "train_df.head(), test_df.head()"
   ]
  },
  {
   "cell_type": "code",
   "execution_count": null,
   "id": "4a1d0f82-c8a6-4723-b213-5b4d62acd1b7",
   "metadata": {},
   "outputs": [],
   "source": []
  }
 ],
 "metadata": {
  "kernelspec": {
   "display_name": "Python 3 (ipykernel)",
   "language": "python",
   "name": "python3"
  },
  "language_info": {
   "codemirror_mode": {
    "name": "ipython",
    "version": 3
   },
   "file_extension": ".py",
   "mimetype": "text/x-python",
   "name": "python",
   "nbconvert_exporter": "python",
   "pygments_lexer": "ipython3",
   "version": "3.13.5"
  }
 },
 "nbformat": 4,
 "nbformat_minor": 5
}
