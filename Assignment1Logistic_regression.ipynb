{
 "cells": [
  {
   "cell_type": "code",
   "execution_count": 1,
   "id": "4ca13e80-cf52-4c69-91a1-ffd2a8f62849",
   "metadata": {},
   "outputs": [],
   "source": [
    "import pandas as pd"
   ]
  },
  {
   "cell_type": "code",
   "execution_count": 15,
   "id": "ee2b7a98-ba1a-49d1-8432-bcb805e73bef",
   "metadata": {},
   "outputs": [],
   "source": [
    "from pathlib import Path"
   ]
  },
  {
   "cell_type": "code",
   "execution_count": 23,
   "id": "317cb296-0b77-4ea4-bfe8-8fa68f5ebe47",
   "metadata": {},
   "outputs": [],
   "source": [
    "TRAIN_PATH = r\"C:\\Users\\David\\OneDrive\\Desktop\\4th year subjects\\Machine Learning\\wildfires_training.csv\"\n",
    "TEST_PATH  = r\"C:\\Users\\David\\OneDrive\\Desktop\\4th year subjects\\Machine Learning\\wildfires_test.csv\""
   ]
  },
  {
   "cell_type": "code",
   "execution_count": 24,
   "id": "a905f61c-f0dd-421f-8f07-378dcfe38c43",
   "metadata": {},
   "outputs": [],
   "source": [
    "train_df = pd.read_csv(TRAIN_PATH)\n",
    "test_df  = pd.read_csv(TEST_PATH)"
   ]
  },
  {
   "cell_type": "code",
   "execution_count": 26,
   "id": "f7db8bbb-1b9b-4488-9e9a-a4c2f6ec4a73",
   "metadata": {},
   "outputs": [
    {
     "data": {
      "text/plain": [
       "(  fire  year  temp  humidity  rainfall  drought_code  buildup_index  day  \\\n",
       " 0   no  2015    28        59       0.0          8.06           3.47    1   \n",
       " 1   no  2010    30        61       1.3          8.17           4.03    2   \n",
       " 2   no  2009    26        83      13.1          8.08           3.59    3   \n",
       " 3   no  2017    25        87       2.5          7.18           2.42    4   \n",
       " 4   no  2014    28        77       0.0         14.98           4.63    5   \n",
       " \n",
       "    month  wind_speed  \n",
       " 0      6          19  \n",
       " 1      6          13  \n",
       " 2      6          22  \n",
       " 3      6          15  \n",
       " 4      6          18  ,\n",
       "   fire  year  temp  humidity  rainfall  drought_code  buildup_index  day  \\\n",
       " 0   no  2015    33        68       4.5          9.12           5.09   19   \n",
       " 1  yes  2009    28        56       0.0         38.17          21.21   12   \n",
       " 2   no  2017    30        64       0.6         15.38           6.24   24   \n",
       " 3   no  2007    23        74       8.3          7.36           2.27   14   \n",
       " 4   no  2017    31        72       0.3         30.47           5.63    7   \n",
       " \n",
       "    month  wind_speed  \n",
       " 0      6          16  \n",
       " 1      6          18  \n",
       " 2      9          19  \n",
       " 3      9          28  \n",
       " 4      9          17  )"
      ]
     },
     "execution_count": 26,
     "metadata": {},
     "output_type": "execute_result"
    }
   ],
   "source": [
    "train_df.head(), test_df.head()"
   ]
  },
  {
   "cell_type": "code",
   "execution_count": 28,
   "id": "98e40317-cb15-4380-bdd5-b04ae2f2d920",
   "metadata": {},
   "outputs": [],
   "source": [
    "from sklearn.preprocessing import OrdinalEncoder"
   ]
  },
  {
   "cell_type": "code",
   "execution_count": 29,
   "id": "78f19d96-e07b-4acd-82b6-c6131b70a3bc",
   "metadata": {},
   "outputs": [],
   "source": [
    "on_fire = ['no', 'yes']"
   ]
  },
  {
   "cell_type": "code",
   "execution_count": 31,
   "id": "e0e5d745-8291-49b5-a326-1717789d9355",
   "metadata": {},
   "outputs": [],
   "source": [
    "enc = OrdinalEncoder(categories=[on_fire])"
   ]
  },
  {
   "cell_type": "code",
   "execution_count": 32,
   "id": "e8d1fa35-df18-4126-b33b-1c3ece22971c",
   "metadata": {},
   "outputs": [],
   "source": [
    "train_df[['fire']] = enc.fit_transform(train_df[['fire']])"
   ]
  },
  {
   "cell_type": "code",
   "execution_count": 33,
   "id": "8da5ab12-4bcd-4eee-bb24-eaf70a9ae798",
   "metadata": {},
   "outputs": [],
   "source": [
    "test_df[['fire']] = enc.transform(test_df[['fire']])\n"
   ]
  },
  {
   "cell_type": "code",
   "execution_count": 35,
   "id": "27ff77fd-6870-47e6-be5f-06a517609928",
   "metadata": {},
   "outputs": [
    {
     "data": {
      "text/plain": [
       "(   fire  year  temp  humidity  rainfall  drought_code  buildup_index  day  \\\n",
       " 0   0.0  2015    28        59       0.0          8.06           3.47    1   \n",
       " 1   0.0  2010    30        61       1.3          8.17           4.03    2   \n",
       " 2   0.0  2009    26        83      13.1          8.08           3.59    3   \n",
       " 3   0.0  2017    25        87       2.5          7.18           2.42    4   \n",
       " 4   0.0  2014    28        77       0.0         14.98           4.63    5   \n",
       " \n",
       "    month  wind_speed  \n",
       " 0      6          19  \n",
       " 1      6          13  \n",
       " 2      6          22  \n",
       " 3      6          15  \n",
       " 4      6          18  ,\n",
       "    fire  year  temp  humidity  rainfall  drought_code  buildup_index  day  \\\n",
       " 0   0.0  2015    33        68       4.5          9.12           5.09   19   \n",
       " 1   1.0  2009    28        56       0.0         38.17          21.21   12   \n",
       " 2   0.0  2017    30        64       0.6         15.38           6.24   24   \n",
       " 3   0.0  2007    23        74       8.3          7.36           2.27   14   \n",
       " 4   0.0  2017    31        72       0.3         30.47           5.63    7   \n",
       " \n",
       "    month  wind_speed  \n",
       " 0      6          16  \n",
       " 1      6          18  \n",
       " 2      9          19  \n",
       " 3      9          28  \n",
       " 4      9          17  )"
      ]
     },
     "execution_count": 35,
     "metadata": {},
     "output_type": "execute_result"
    }
   ],
   "source": [
    "train_df.head(), test_df.head()"
   ]
  },
  {
   "cell_type": "code",
   "execution_count": null,
   "id": "b543823a-ff58-4ff6-94b8-75b5379dde60",
   "metadata": {},
   "outputs": [],
   "source": []
  }
 ],
 "metadata": {
  "kernelspec": {
   "display_name": "Python 3 (ipykernel)",
   "language": "python",
   "name": "python3"
  },
  "language_info": {
   "codemirror_mode": {
    "name": "ipython",
    "version": 3
   },
   "file_extension": ".py",
   "mimetype": "text/x-python",
   "name": "python",
   "nbconvert_exporter": "python",
   "pygments_lexer": "ipython3",
   "version": "3.13.5"
  }
 },
 "nbformat": 4,
 "nbformat_minor": 5
}
